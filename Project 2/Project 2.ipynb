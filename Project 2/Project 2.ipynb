{
 "cells": [
  {
   "cell_type": "code",
   "execution_count": 24,
   "metadata": {},
   "outputs": [],
   "source": [
    "import pandas as pd\n",
    "import numpy as np\n",
    "import matplotlib.pyplot as plt\n",
    "import warnings\n",
    "warnings.filterwarnings('ignore')"
   ]
  },
  {
   "cell_type": "code",
   "execution_count": 2,
   "metadata": {},
   "outputs": [],
   "source": [
    "#reading in csv file from github repository\n",
    "url = 'https://raw.githubusercontent.com/evasilva1/data71200sp20/master/Project%201/Data.csv'\n",
    "vios = pd.read_csv(url, engine='python')"
   ]
  },
  {
   "cell_type": "code",
   "execution_count": 3,
   "metadata": {
    "scrolled": true
   },
   "outputs": [
    {
     "name": "stdout",
     "output_type": "stream",
     "text": [
      "<class 'pandas.core.frame.DataFrame'>\n",
      "RangeIndex: 2373 entries, 0 to 2372\n",
      "Data columns (total 20 columns):\n",
      "Complaint Number                     2373 non-null int64\n",
      "Previous ECB#                        1762 non-null object\n",
      "ECB #                                1762 non-null object\n",
      "License# Rep                         1611 non-null object\n",
      "Respondent                           1611 non-null object\n",
      "I_CODE                               2373 non-null object\n",
      "Section of Law                       2373 non-null object\n",
      "Violation Description                2373 non-null object\n",
      "New I_CODE                           2373 non-null object\n",
      "Complaint Reason                     2373 non-null object\n",
      "Inspection Date                      2373 non-null object\n",
      "BIN Number                           2373 non-null int64\n",
      "Complaint  Category                  2373 non-null object\n",
      "Complaint  Category Description      2373 non-null object\n",
      "Complaint  Sub Category 1            2373 non-null int64\n",
      "1st Unit Assigned Description        2373 non-null object\n",
      "Disposition Date                     2373 non-null object\n",
      "Disposition Code                     2373 non-null object\n",
      "Complaint Disposition Description    2373 non-null object\n",
      "Inspector ID                         2373 non-null int64\n",
      "dtypes: int64(4), object(16)\n",
      "memory usage: 370.9+ KB\n"
     ]
    },
    {
     "data": {
      "text/html": [
       "<div>\n",
       "<style scoped>\n",
       "    .dataframe tbody tr th:only-of-type {\n",
       "        vertical-align: middle;\n",
       "    }\n",
       "\n",
       "    .dataframe tbody tr th {\n",
       "        vertical-align: top;\n",
       "    }\n",
       "\n",
       "    .dataframe thead th {\n",
       "        text-align: right;\n",
       "    }\n",
       "</style>\n",
       "<table border=\"1\" class=\"dataframe\">\n",
       "  <thead>\n",
       "    <tr style=\"text-align: right;\">\n",
       "      <th></th>\n",
       "      <th>Complaint Number</th>\n",
       "      <th>BIN Number</th>\n",
       "      <th>Complaint  Sub Category 1</th>\n",
       "      <th>Inspector ID</th>\n",
       "    </tr>\n",
       "  </thead>\n",
       "  <tbody>\n",
       "    <tr>\n",
       "      <td>count</td>\n",
       "      <td>2.373000e+03</td>\n",
       "      <td>2.373000e+03</td>\n",
       "      <td>2373.000000</td>\n",
       "      <td>2373.000000</td>\n",
       "    </tr>\n",
       "    <tr>\n",
       "      <td>mean</td>\n",
       "      <td>3.188567e+06</td>\n",
       "      <td>2.748777e+06</td>\n",
       "      <td>2.257901</td>\n",
       "      <td>2963.378424</td>\n",
       "    </tr>\n",
       "    <tr>\n",
       "      <td>std</td>\n",
       "      <td>1.236724e+06</td>\n",
       "      <td>1.239971e+06</td>\n",
       "      <td>0.586586</td>\n",
       "      <td>122.962415</td>\n",
       "    </tr>\n",
       "    <tr>\n",
       "      <td>min</td>\n",
       "      <td>1.501694e+06</td>\n",
       "      <td>1.000027e+06</td>\n",
       "      <td>1.000000</td>\n",
       "      <td>2232.000000</td>\n",
       "    </tr>\n",
       "    <tr>\n",
       "      <td>25%</td>\n",
       "      <td>1.528745e+06</td>\n",
       "      <td>1.090462e+06</td>\n",
       "      <td>2.000000</td>\n",
       "      <td>2879.000000</td>\n",
       "    </tr>\n",
       "    <tr>\n",
       "      <td>50%</td>\n",
       "      <td>3.700407e+06</td>\n",
       "      <td>3.064046e+06</td>\n",
       "      <td>2.000000</td>\n",
       "      <td>2987.000000</td>\n",
       "    </tr>\n",
       "    <tr>\n",
       "      <td>75%</td>\n",
       "      <td>3.728267e+06</td>\n",
       "      <td>3.426412e+06</td>\n",
       "      <td>2.000000</td>\n",
       "      <td>3050.000000</td>\n",
       "    </tr>\n",
       "    <tr>\n",
       "      <td>max</td>\n",
       "      <td>5.145594e+06</td>\n",
       "      <td>5.820823e+06</td>\n",
       "      <td>4.000000</td>\n",
       "      <td>3163.000000</td>\n",
       "    </tr>\n",
       "  </tbody>\n",
       "</table>\n",
       "</div>"
      ],
      "text/plain": [
       "       Complaint Number    BIN Number  Complaint  Sub Category 1  Inspector ID\n",
       "count      2.373000e+03  2.373000e+03                2373.000000   2373.000000\n",
       "mean       3.188567e+06  2.748777e+06                   2.257901   2963.378424\n",
       "std        1.236724e+06  1.239971e+06                   0.586586    122.962415\n",
       "min        1.501694e+06  1.000027e+06                   1.000000   2232.000000\n",
       "25%        1.528745e+06  1.090462e+06                   2.000000   2879.000000\n",
       "50%        3.700407e+06  3.064046e+06                   2.000000   2987.000000\n",
       "75%        3.728267e+06  3.426412e+06                   2.000000   3050.000000\n",
       "max        5.145594e+06  5.820823e+06                   4.000000   3163.000000"
      ]
     },
     "execution_count": 3,
     "metadata": {},
     "output_type": "execute_result"
    }
   ],
   "source": [
    "#exploring data for recoding prior to shuffle split\n",
    "vios.info()\n",
    "vios.describe()"
   ]
  },
  {
   "cell_type": "markdown",
   "metadata": {},
   "source": [
    "## **Cleaning Data**"
   ]
  },
  {
   "cell_type": "code",
   "execution_count": null,
   "metadata": {},
   "outputs": [],
   "source": [
    "#The data used for this project had to be cleaned for several reasons.\n",
    "#(1) Section of Law, I_CODE and New I_Code had to be turned into nominal/categorical fields as the knn would work.\n",
    "#(2) Certain classes had few features and had to be removed as stratified split wouldn't fuction\n",
    "#(3) Removed fields not necessary for the evaluation"
   ]
  },
  {
   "cell_type": "code",
   "execution_count": 4,
   "metadata": {
    "scrolled": true
   },
   "outputs": [
    {
     "data": {
      "text/plain": [
       "BC3301.3 3310.5             549\n",
       "BC3301.7(2014 CODE)         290\n",
       "BC    3301.2                253\n",
       "AC    27MISCAC28MISCBCMI    232\n",
       "BC    3301.2 AC27-1009A     158\n",
       "BC3301.13.3                 142\n",
       "AC    28-401.9              123\n",
       "MISC. CHAP.4 OF TITLE 28    116\n",
       "28-   105.12.2              113\n",
       "28-116.1                     71\n",
       "AC    28-105.1               48\n",
       "BC3301.13.7 THRU .13.13      48\n",
       "28-104.2.2                   46\n",
       "AC    28-105.12.2            35\n",
       "AC    28-301.1               30\n",
       "AC    1RCNY-MISC,RS-MISC     23\n",
       "27-1021BC3307.3 3307.6.2     16\n",
       "28-105.1                     14\n",
       "BC    3303.4   27-1018       12\n",
       "BC 3304.4   AC 27-1032       11\n",
       "27-1050.1 BC3314 3314.4       6\n",
       "BC3307.1                      5\n",
       "BC1704.22.1 BC1704.24.1       5\n",
       "1RCNY 104-20                  5\n",
       "27-1045 BC3314 BC3314.4       3\n",
       "BC    3314.2 AC27-1042        2\n",
       "BC3321.2.3                    2\n",
       "BC    3303.4.6   27-1018      2\n",
       "BC    3309.4 AC27-1031        2\n",
       "BC3307.7                      2\n",
       "BC3314.4.5 BC3314.4.5.1       2\n",
       "BC    3303.4 27-1018          1\n",
       "BC    3319.3                  1\n",
       "27-   2009.2                  1\n",
       "ECC   R402.2                  1\n",
       "BC    3303.8.1                1\n",
       "BC    3303.15                 1\n",
       "28-   201.1                   1\n",
       "Name: Section of Law, dtype: int64"
      ]
     },
     "execution_count": 4,
     "metadata": {},
     "output_type": "execute_result"
    }
   ],
   "source": [
    "#recoding items\n",
    "vios['Section of Law'].value_counts()"
   ]
  },
  {
   "cell_type": "code",
   "execution_count": 5,
   "metadata": {},
   "outputs": [],
   "source": [
    "#creating a dict file\n",
    "sol = {'BC3301.7(2014 CODE)':3301.7,\n",
    "       'BC    3301.2':3301.2,\n",
    "      'AC    27MISCAC28MISCBCMI':27.0,\n",
    "       'BC    3301.2 AC27-1009A':3301.227,\n",
    "      'BC3301.13.3':3301.133,\n",
    "       'AC    28-401.9':28.401,\n",
    "      'MISC. CHAP.4 OF TITLE 28':28.0,\n",
    "       '28-   105.12.2':28.10512,\n",
    "      '28-116.1':28.116,\n",
    "       'BC3301.13.7 THRU .13.13':3301.137,\n",
    "      'AC    28-105.1':28.1051,\n",
    "      '28-104.2.2':28.104,\n",
    "      'AC    28-105.12.2':28.10512,\n",
    "      'AC    28-301.1':28.1031,\n",
    "      'AC    1RCNY-MISC,RS-MISC':1.0,\n",
    "      '27-1021BC3307.3 3307.6.2':27.102,\n",
    "      '28-105.1':28.1051,\n",
    "      'BC    3303.4   27-1018':3303.4,\n",
    "      'BC 3304.4   AC 27-1032':3304.4,\n",
    "      '27-1050.1 BC3314 3314.4':27.10501,\n",
    "      'BC3307.1':3307.1,\n",
    "      '1RCNY 104-20':1.104,\n",
    "      'BC1704.22.1 BC1704.24.1':'1704.22',\n",
    "      '27-1045 BC3314 BC3314.4':27.1045,\n",
    "      'BC    3309.4 AC27-1031':3309.4,\n",
    "      'BC    3303.4.6   27-1018':3303.4,\n",
    "      'BC    3314.2 AC27-1042':3314.2,\n",
    "      'BC3321.2.3':3321.2,\n",
    "      'BC3314.4.5 BC3314.4.5.1':3314.4,\n",
    "      'BC3307.7':3307.7,\n",
    "      'BC    3319.3':3319.3,\n",
    "      'BC    3303.4 27-1018':3303.4,\n",
    "      '27-   2009.2':27.2009,\n",
    "      'ECC   R402.2':402.2,\n",
    "      '28-   201.1':28.201,\n",
    "      'BC    3303.8.1':3303.8,\n",
    "      'BC    3303.15':3303.15,\n",
    "      'BC3301.3 3310.5':3301.3}"
   ]
  },
  {
   "cell_type": "code",
   "execution_count": 6,
   "metadata": {
    "scrolled": true
   },
   "outputs": [
    {
     "name": "stdout",
     "output_type": "stream",
     "text": [
      "      Complaint Number Previous ECB#      ECB # License# Rep  \\\n",
      "0              3688599     35385618J  35385618J     GC614625   \n",
      "1              4789669     35455738P  35455738P     GC616606   \n",
      "2              1523484     35453536H  35453536H      GC23947   \n",
      "3              3716783     35448329Z  35448329Z     GC616014   \n",
      "4              4785607     35449079J  35449079J     GC603645   \n",
      "...                ...           ...        ...          ...   \n",
      "2368           3712712     35431843K  35431843K      GC27608   \n",
      "2369           4781796     35441136K  35441136K       GC2415   \n",
      "2370           1502273     35385764H  35385764H      GC26860   \n",
      "2371           2287066     35420812Y  35420812Y     GC614253   \n",
      "2372           1522362     35455935Y  35455935Y     GC616952   \n",
      "\n",
      "                     Respondent I_CODE Section of Law  \\\n",
      "0     KISHAN PLUMBING & HEATING    101        28.1051   \n",
      "1        METROCITY CONSTRUCTION    101        28.1051   \n",
      "2         PAVARIA MC GOVERN LLC    101        28.1051   \n",
      "3     S GOOLCHARAN CONSTRUCTION    101        28.1051   \n",
      "4         CNY CONSTRUCTION, LLC    101        28.1051   \n",
      "...                         ...    ...            ...   \n",
      "2368             IGOR LISOVENKO    2G5        3301.14   \n",
      "2369  WHITESTONE CONSTRUCTION C    2G5        3301.14   \n",
      "2370  NICOLA TOTINO SILVERLININ    2G5        3301.14   \n",
      "2371        LIC CONTRACTING INC    2G6          402.2   \n",
      "2372   S&J CONSTRUCTION SERVICE    2K8        27.2009   \n",
      "\n",
      "                                  Violation Description New I_CODE  \\\n",
      "0                                Work without a permit.        101   \n",
      "1                                Work without a permit.        101   \n",
      "2                                Work without a permit.        101   \n",
      "3                                Work without a permit.        101   \n",
      "4                                Work without a permit.        101   \n",
      "...                                                 ...        ...   \n",
      "2368  Construction Superintendent failed to perform ...        2G5   \n",
      "2369  Construction Superintendent failed to perform ...        2G5   \n",
      "2370  Construction Superintendent failed to perform ...        2G5   \n",
      "2371  Insulation placement and/or R values do not me...        2G6   \n",
      "2372  Failure to post or distribute \"Safe Constructi...        2K8   \n",
      "\n",
      "                                       Complaint Reason Inspection Date  \\\n",
      "0      WORK WITHOUT PERMIT, SUPERINTENDENT/COMP. PERSON  2/26/2019 0:00   \n",
      "1     EXPIRED WORK PERMIT 08-17-19. NO CAZ/OHP @EXP1...  9/16/2019 0:00   \n",
      "2     SUPP SCAFF INSTALLED @ ELEVATOR SHAFT W/O A PE...  10/2/2019 0:00   \n",
      "3                            ALT PERMIT EXPIRED 7/25/19  8/13/2019 0:00   \n",
      "4                            NO PERMIT FOR NEEDLE BEAMS  8/12/2019 0:00   \n",
      "...                                                 ...             ...   \n",
      "2368  NO SS PLANS ON SITE AND NO CS AND/OR COMPETENT...  7/22/2019 0:00   \n",
      "2369  NO CS/COMPETENT PERSON ON SITE @ TIME OF INSPE...  7/12/2019 0:00   \n",
      "2370     FAILURE TO SAFE GUARD ALL PERSONS & PROPERTIES  2/20/2019 0:00   \n",
      "2371  FAILURE TO HAVE SUPER/COMP PERONS ON SITE AS REQD  8/15/2019 0:00   \n",
      "2372  FAILURE TO POST TTP; FAILURE TO POST BILL OF R...  9/20/2019 0:00   \n",
      "\n",
      "      BIN Number Complaint  Category        Complaint  Category Description  \\\n",
      "0        3061534                  8A  CONSTRUCTION SAFETY COMPLIANCE ACTION   \n",
      "1        4012207                  8A  CONSTRUCTION SAFETY COMPLIANCE ACTION   \n",
      "2        1089974                  8A  CONSTRUCTION SAFETY COMPLIANCE ACTION   \n",
      "3        3077509                  8A  CONSTRUCTION SAFETY COMPLIANCE ACTION   \n",
      "4        4607281                  8A  CONSTRUCTION SAFETY COMPLIANCE ACTION   \n",
      "...          ...                 ...                                    ...   \n",
      "2368     3206588                  8A  CONSTRUCTION SAFETY COMPLIANCE ACTION   \n",
      "2369     4438404                  8A  CONSTRUCTION SAFETY COMPLIANCE ACTION   \n",
      "2370     1010011                  8A  CONSTRUCTION SAFETY COMPLIANCE ACTION   \n",
      "2371     2003082                  8A  CONSTRUCTION SAFETY COMPLIANCE ACTION   \n",
      "2372     1046616                  8A  CONSTRUCTION SAFETY COMPLIANCE ACTION   \n",
      "\n",
      "      Complaint  Sub Category 1   1st Unit Assigned Description  \\\n",
      "0                             2  CONSTRUCTION SAFETY COMPLIANCE   \n",
      "1                             2  CONSTRUCTION SAFETY COMPLIANCE   \n",
      "2                             3  CONSTRUCTION SAFETY COMPLIANCE   \n",
      "3                             2  CONSTRUCTION SAFETY COMPLIANCE   \n",
      "4                             3  CONSTRUCTION SAFETY COMPLIANCE   \n",
      "...                         ...                             ...   \n",
      "2368                          1  CONSTRUCTION SAFETY COMPLIANCE   \n",
      "2369                          2  CONSTRUCTION SAFETY COMPLIANCE   \n",
      "2370                          2  CONSTRUCTION SAFETY COMPLIANCE   \n",
      "2371                          2  CONSTRUCTION SAFETY COMPLIANCE   \n",
      "2372                          2  CONSTRUCTION SAFETY COMPLIANCE   \n",
      "\n",
      "     Disposition Date Disposition Code  \\\n",
      "0      2/28/2019 0:00               A3   \n",
      "1      9/17/2019 0:00               A3   \n",
      "2      10/3/2019 0:00               L1   \n",
      "3      8/15/2019 0:00               A3   \n",
      "4      8/13/2019 0:00               A3   \n",
      "...               ...              ...   \n",
      "2368   7/22/2019 0:00               A3   \n",
      "2369   7/12/2019 0:00               A3   \n",
      "2370   2/20/2019 0:00               A3   \n",
      "2371   8/15/2019 0:00               A3   \n",
      "2372   9/20/2019 0:00               L1   \n",
      "\n",
      "                      Complaint Disposition Description  Inspector ID  \n",
      "0     FULL STOP WORK ORDER SERVED                   ...          3055  \n",
      "1     FULL STOP WORK ORDER SERVED                   ...          3050  \n",
      "2     PARTIAL STOP WORK ORDER                       ...          3077  \n",
      "3     FULL STOP WORK ORDER SERVED                   ...          2982  \n",
      "4     FULL STOP WORK ORDER SERVED                   ...          3050  \n",
      "...                                                 ...           ...  \n",
      "2368  FULL STOP WORK ORDER SERVED                   ...          2879  \n",
      "2369  FULL STOP WORK ORDER SERVED                   ...          3044  \n",
      "2370  FULL STOP WORK ORDER SERVED                   ...          2987  \n",
      "2371  FULL STOP WORK ORDER SERVED                   ...          2870  \n",
      "2372  PARTIAL STOP WORK ORDER                       ...          3048  \n",
      "\n",
      "[2373 rows x 20 columns]\n"
     ]
    }
   ],
   "source": [
    "#recoding using dict file\n",
    "vios['Section of Law'] = [sol[item] for item in vios['Section of Law']]\n",
    "print(vios)"
   ]
  },
  {
   "cell_type": "code",
   "execution_count": 7,
   "metadata": {
    "scrolled": true
   },
   "outputs": [
    {
     "name": "stdout",
     "output_type": "stream",
     "text": [
      "3301.3      549\n",
      "3301.7      290\n",
      "3301.2      253\n",
      "27.0        232\n",
      "3301.227    158\n",
      "28.10512    148\n",
      "3301.133    142\n",
      "28.401      123\n",
      "28.0        116\n",
      "28.116       71\n",
      "28.1051      62\n",
      "3301.137     48\n",
      "28.104       46\n",
      "28.1031      30\n",
      "1.0          23\n",
      "27.102       16\n",
      "3303.4       15\n",
      "3304.4       11\n",
      "27.10501      6\n",
      "1.104         5\n",
      "1704.22       5\n",
      "3307.1        5\n",
      "27.1045       3\n",
      "3307.7        2\n",
      "3309.4        2\n",
      "3314.4        2\n",
      "3321.2        2\n",
      "3314.2        2\n",
      "27.2009       1\n",
      "3303.8        1\n",
      "3303.15       1\n",
      "402.2         1\n",
      "28.201        1\n",
      "3319.3        1\n",
      "Name: Section of Law, dtype: int64\n"
     ]
    }
   ],
   "source": [
    "#see new section of law recoded\n",
    "print(vios['Section of Law'].value_counts())"
   ]
  },
  {
   "cell_type": "code",
   "execution_count": 8,
   "metadata": {
    "scrolled": true
   },
   "outputs": [
    {
     "name": "stdout",
     "output_type": "stream",
     "text": [
      "      Complaint Number Previous ECB#      ECB # License# Rep  \\\n",
      "0              3688599     35385618J  35385618J     GC614625   \n",
      "1              4789669     35455738P  35455738P     GC616606   \n",
      "2              1523484     35453536H  35453536H      GC23947   \n",
      "3              3716783     35448329Z  35448329Z     GC616014   \n",
      "4              4785607     35449079J  35449079J     GC603645   \n",
      "...                ...           ...        ...          ...   \n",
      "2368           3712712     35431843K  35431843K      GC27608   \n",
      "2369           4781796     35441136K  35441136K       GC2415   \n",
      "2370           1502273     35385764H  35385764H      GC26860   \n",
      "2371           2287066     35420812Y  35420812Y     GC614253   \n",
      "2372           1522362     35455935Y  35455935Y     GC616952   \n",
      "\n",
      "                     Respondent I_CODE Section of Law  \\\n",
      "0     KISHAN PLUMBING & HEATING    101        28.1051   \n",
      "1        METROCITY CONSTRUCTION    101        28.1051   \n",
      "2         PAVARIA MC GOVERN LLC    101        28.1051   \n",
      "3     S GOOLCHARAN CONSTRUCTION    101        28.1051   \n",
      "4         CNY CONSTRUCTION, LLC    101        28.1051   \n",
      "...                         ...    ...            ...   \n",
      "2368             IGOR LISOVENKO      6        3301.14   \n",
      "2369  WHITESTONE CONSTRUCTION C      6        3301.14   \n",
      "2370  NICOLA TOTINO SILVERLININ      6        3301.14   \n",
      "2371        LIC CONTRACTING INC     12          402.2   \n",
      "2372   S&J CONSTRUCTION SERVICE      8        27.2009   \n",
      "\n",
      "                                  Violation Description New I_CODE  \\\n",
      "0                                Work without a permit.        101   \n",
      "1                                Work without a permit.        101   \n",
      "2                                Work without a permit.        101   \n",
      "3                                Work without a permit.        101   \n",
      "4                                Work without a permit.        101   \n",
      "...                                                 ...        ...   \n",
      "2368  Construction Superintendent failed to perform ...        2G5   \n",
      "2369  Construction Superintendent failed to perform ...        2G5   \n",
      "2370  Construction Superintendent failed to perform ...        2G5   \n",
      "2371  Insulation placement and/or R values do not me...        2G6   \n",
      "2372  Failure to post or distribute \"Safe Constructi...        2K8   \n",
      "\n",
      "                                       Complaint Reason Inspection Date  \\\n",
      "0      WORK WITHOUT PERMIT, SUPERINTENDENT/COMP. PERSON  2/26/2019 0:00   \n",
      "1     EXPIRED WORK PERMIT 08-17-19. NO CAZ/OHP @EXP1...  9/16/2019 0:00   \n",
      "2     SUPP SCAFF INSTALLED @ ELEVATOR SHAFT W/O A PE...  10/2/2019 0:00   \n",
      "3                            ALT PERMIT EXPIRED 7/25/19  8/13/2019 0:00   \n",
      "4                            NO PERMIT FOR NEEDLE BEAMS  8/12/2019 0:00   \n",
      "...                                                 ...             ...   \n",
      "2368  NO SS PLANS ON SITE AND NO CS AND/OR COMPETENT...  7/22/2019 0:00   \n",
      "2369  NO CS/COMPETENT PERSON ON SITE @ TIME OF INSPE...  7/12/2019 0:00   \n",
      "2370     FAILURE TO SAFE GUARD ALL PERSONS & PROPERTIES  2/20/2019 0:00   \n",
      "2371  FAILURE TO HAVE SUPER/COMP PERONS ON SITE AS REQD  8/15/2019 0:00   \n",
      "2372  FAILURE TO POST TTP; FAILURE TO POST BILL OF R...  9/20/2019 0:00   \n",
      "\n",
      "      BIN Number Complaint  Category        Complaint  Category Description  \\\n",
      "0        3061534                  8A  CONSTRUCTION SAFETY COMPLIANCE ACTION   \n",
      "1        4012207                  8A  CONSTRUCTION SAFETY COMPLIANCE ACTION   \n",
      "2        1089974                  8A  CONSTRUCTION SAFETY COMPLIANCE ACTION   \n",
      "3        3077509                  8A  CONSTRUCTION SAFETY COMPLIANCE ACTION   \n",
      "4        4607281                  8A  CONSTRUCTION SAFETY COMPLIANCE ACTION   \n",
      "...          ...                 ...                                    ...   \n",
      "2368     3206588                  8A  CONSTRUCTION SAFETY COMPLIANCE ACTION   \n",
      "2369     4438404                  8A  CONSTRUCTION SAFETY COMPLIANCE ACTION   \n",
      "2370     1010011                  8A  CONSTRUCTION SAFETY COMPLIANCE ACTION   \n",
      "2371     2003082                  8A  CONSTRUCTION SAFETY COMPLIANCE ACTION   \n",
      "2372     1046616                  8A  CONSTRUCTION SAFETY COMPLIANCE ACTION   \n",
      "\n",
      "      Complaint  Sub Category 1   1st Unit Assigned Description  \\\n",
      "0                             2  CONSTRUCTION SAFETY COMPLIANCE   \n",
      "1                             2  CONSTRUCTION SAFETY COMPLIANCE   \n",
      "2                             3  CONSTRUCTION SAFETY COMPLIANCE   \n",
      "3                             2  CONSTRUCTION SAFETY COMPLIANCE   \n",
      "4                             3  CONSTRUCTION SAFETY COMPLIANCE   \n",
      "...                         ...                             ...   \n",
      "2368                          1  CONSTRUCTION SAFETY COMPLIANCE   \n",
      "2369                          2  CONSTRUCTION SAFETY COMPLIANCE   \n",
      "2370                          2  CONSTRUCTION SAFETY COMPLIANCE   \n",
      "2371                          2  CONSTRUCTION SAFETY COMPLIANCE   \n",
      "2372                          2  CONSTRUCTION SAFETY COMPLIANCE   \n",
      "\n",
      "     Disposition Date Disposition Code  \\\n",
      "0      2/28/2019 0:00               A3   \n",
      "1      9/17/2019 0:00               A3   \n",
      "2      10/3/2019 0:00               L1   \n",
      "3      8/15/2019 0:00               A3   \n",
      "4      8/13/2019 0:00               A3   \n",
      "...               ...              ...   \n",
      "2368   7/22/2019 0:00               A3   \n",
      "2369   7/12/2019 0:00               A3   \n",
      "2370   2/20/2019 0:00               A3   \n",
      "2371   8/15/2019 0:00               A3   \n",
      "2372   9/20/2019 0:00               L1   \n",
      "\n",
      "                      Complaint Disposition Description  Inspector ID  \n",
      "0     FULL STOP WORK ORDER SERVED                   ...          3055  \n",
      "1     FULL STOP WORK ORDER SERVED                   ...          3050  \n",
      "2     PARTIAL STOP WORK ORDER                       ...          3077  \n",
      "3     FULL STOP WORK ORDER SERVED                   ...          2982  \n",
      "4     FULL STOP WORK ORDER SERVED                   ...          3050  \n",
      "...                                                 ...           ...  \n",
      "2368  FULL STOP WORK ORDER SERVED                   ...          2879  \n",
      "2369  FULL STOP WORK ORDER SERVED                   ...          3044  \n",
      "2370  FULL STOP WORK ORDER SERVED                   ...          2987  \n",
      "2371  FULL STOP WORK ORDER SERVED                   ...          2870  \n",
      "2372  PARTIAL STOP WORK ORDER                       ...          3048  \n",
      "\n",
      "[2373 rows x 20 columns]\n"
     ]
    },
    {
     "name": "stderr",
     "output_type": "stream",
     "text": [
      "C:\\Users\\evasi\\Anaconda3\\lib\\site-packages\\ipykernel_launcher.py:4: SettingWithCopyWarning: \n",
      "A value is trying to be set on a copy of a slice from a DataFrame\n",
      "\n",
      "See the caveats in the documentation: http://pandas.pydata.org/pandas-docs/stable/user_guide/indexing.html#returning-a-view-versus-a-copy\n",
      "  after removing the cwd from sys.path.\n",
      "C:\\Users\\evasi\\Anaconda3\\lib\\site-packages\\ipykernel_launcher.py:5: SettingWithCopyWarning: \n",
      "A value is trying to be set on a copy of a slice from a DataFrame\n",
      "\n",
      "See the caveats in the documentation: http://pandas.pydata.org/pandas-docs/stable/user_guide/indexing.html#returning-a-view-versus-a-copy\n",
      "  \"\"\"\n",
      "C:\\Users\\evasi\\Anaconda3\\lib\\site-packages\\ipykernel_launcher.py:6: SettingWithCopyWarning: \n",
      "A value is trying to be set on a copy of a slice from a DataFrame\n",
      "\n",
      "See the caveats in the documentation: http://pandas.pydata.org/pandas-docs/stable/user_guide/indexing.html#returning-a-view-versus-a-copy\n",
      "  \n",
      "C:\\Users\\evasi\\Anaconda3\\lib\\site-packages\\ipykernel_launcher.py:7: SettingWithCopyWarning: \n",
      "A value is trying to be set on a copy of a slice from a DataFrame\n",
      "\n",
      "See the caveats in the documentation: http://pandas.pydata.org/pandas-docs/stable/user_guide/indexing.html#returning-a-view-versus-a-copy\n",
      "  import sys\n",
      "C:\\Users\\evasi\\Anaconda3\\lib\\site-packages\\ipykernel_launcher.py:8: SettingWithCopyWarning: \n",
      "A value is trying to be set on a copy of a slice from a DataFrame\n",
      "\n",
      "See the caveats in the documentation: http://pandas.pydata.org/pandas-docs/stable/user_guide/indexing.html#returning-a-view-versus-a-copy\n",
      "  \n",
      "C:\\Users\\evasi\\Anaconda3\\lib\\site-packages\\ipykernel_launcher.py:9: SettingWithCopyWarning: \n",
      "A value is trying to be set on a copy of a slice from a DataFrame\n",
      "\n",
      "See the caveats in the documentation: http://pandas.pydata.org/pandas-docs/stable/user_guide/indexing.html#returning-a-view-versus-a-copy\n",
      "  if __name__ == '__main__':\n",
      "C:\\Users\\evasi\\Anaconda3\\lib\\site-packages\\ipykernel_launcher.py:10: SettingWithCopyWarning: \n",
      "A value is trying to be set on a copy of a slice from a DataFrame\n",
      "\n",
      "See the caveats in the documentation: http://pandas.pydata.org/pandas-docs/stable/user_guide/indexing.html#returning-a-view-versus-a-copy\n",
      "  # Remove the CWD from sys.path while we load stuff.\n",
      "C:\\Users\\evasi\\Anaconda3\\lib\\site-packages\\ipykernel_launcher.py:11: SettingWithCopyWarning: \n",
      "A value is trying to be set on a copy of a slice from a DataFrame\n",
      "\n",
      "See the caveats in the documentation: http://pandas.pydata.org/pandas-docs/stable/user_guide/indexing.html#returning-a-view-versus-a-copy\n",
      "  # This is added back by InteractiveShellApp.init_path()\n",
      "C:\\Users\\evasi\\Anaconda3\\lib\\site-packages\\ipykernel_launcher.py:12: SettingWithCopyWarning: \n",
      "A value is trying to be set on a copy of a slice from a DataFrame\n",
      "\n",
      "See the caveats in the documentation: http://pandas.pydata.org/pandas-docs/stable/user_guide/indexing.html#returning-a-view-versus-a-copy\n",
      "  if sys.path[0] == '':\n",
      "C:\\Users\\evasi\\Anaconda3\\lib\\site-packages\\ipykernel_launcher.py:13: SettingWithCopyWarning: \n",
      "A value is trying to be set on a copy of a slice from a DataFrame\n",
      "\n",
      "See the caveats in the documentation: http://pandas.pydata.org/pandas-docs/stable/user_guide/indexing.html#returning-a-view-versus-a-copy\n",
      "  del sys.path[0]\n",
      "C:\\Users\\evasi\\Anaconda3\\lib\\site-packages\\ipykernel_launcher.py:14: SettingWithCopyWarning: \n",
      "A value is trying to be set on a copy of a slice from a DataFrame\n",
      "\n",
      "See the caveats in the documentation: http://pandas.pydata.org/pandas-docs/stable/user_guide/indexing.html#returning-a-view-versus-a-copy\n",
      "  \n",
      "C:\\Users\\evasi\\Anaconda3\\lib\\site-packages\\ipykernel_launcher.py:15: SettingWithCopyWarning: \n",
      "A value is trying to be set on a copy of a slice from a DataFrame\n",
      "\n",
      "See the caveats in the documentation: http://pandas.pydata.org/pandas-docs/stable/user_guide/indexing.html#returning-a-view-versus-a-copy\n",
      "  from ipykernel import kernelapp as app\n"
     ]
    }
   ],
   "source": [
    "#checking value counts\n",
    "vios['I_CODE'].value_counts()\n",
    "#recoding long way\n",
    "vios.I_CODE[vios.I_CODE == '1F2'] = '1'\n",
    "vios.I_CODE[vios.I_CODE == '1G6'] = '2'\n",
    "vios.I_CODE[vios.I_CODE == '2A7'] = '3'\n",
    "vios.I_CODE[vios.I_CODE == '1G5'] = '4'\n",
    "vios.I_CODE[vios.I_CODE == '2F7'] = '5'\n",
    "vios.I_CODE[vios.I_CODE == '2G5'] = '6'\n",
    "vios.I_CODE[vios.I_CODE == '1K5'] = '7'\n",
    "vios.I_CODE[vios.I_CODE == '2K8'] = '8'\n",
    "vios.I_CODE[vios.I_CODE == '2F1'] = '9'\n",
    "vios.I_CODE[vios.I_CODE == '1C3'] = '10'\n",
    "vios.I_CODE[vios.I_CODE == '1C2'] = '11'\n",
    "vios.I_CODE[vios.I_CODE == '2G6'] = '12'\n",
    "print(vios)"
   ]
  },
  {
   "cell_type": "code",
   "execution_count": 9,
   "metadata": {
    "scrolled": true
   },
   "outputs": [
    {
     "name": "stdout",
     "output_type": "stream",
     "text": [
      "119    554\n",
      "1F2    290\n",
      "209    198\n",
      "1G6    190\n",
      "115    167\n",
      "109    140\n",
      "191    123\n",
      "147    116\n",
      "182    113\n",
      "210     79\n",
      "2A7     74\n",
      "1G5     42\n",
      "201     40\n",
      "114     37\n",
      "102     30\n",
      "131     21\n",
      "282     19\n",
      "101     16\n",
      "214     13\n",
      "181     13\n",
      "110     11\n",
      "2F7      8\n",
      "149      8\n",
      "223      8\n",
      "121      8\n",
      "1K5      7\n",
      "2G5      6\n",
      "261      6\n",
      "148      6\n",
      "1C2      5\n",
      "144      5\n",
      "211      3\n",
      "183      2\n",
      "123      2\n",
      "130      2\n",
      "1K6      2\n",
      "129      2\n",
      "2G6      1\n",
      "1C3      1\n",
      "177      1\n",
      "2F1      1\n",
      "187      1\n",
      "212      1\n",
      "2K8      1\n",
      "Name: New I_CODE, dtype: int64\n"
     ]
    }
   ],
   "source": [
    "#checking value counts\n",
    "print(vios['New I_CODE'].value_counts())"
   ]
  },
  {
   "cell_type": "code",
   "execution_count": 10,
   "metadata": {},
   "outputs": [],
   "source": [
    "#get names of indices for which New I_CODE\n",
    "indexNames = vios[(vios['New I_CODE'] == '1C3') | (vios['New I_CODE'] == '2K8') |\n",
    "                  (vios['New I_CODE'] == '187') | (vios['New I_CODE'] == '212') |\n",
    "                  (vios['New I_CODE'] == '177') | (vios['New I_CODE'] == '2F1') |\n",
    "                  (vios['New I_CODE'] == '2G6') | (vios['New I_CODE'] == '129') |\n",
    "                  (vios['New I_CODE'] == '130') | (vios['New I_CODE'] == '183') |\n",
    "                  (vios['New I_CODE'] == '1K6') | (vios['New I_CODE'] == '123') |\n",
    "                  (vios['New I_CODE'] == '211') | (vios['New I_CODE'] == '144') |\n",
    "                  (vios['New I_CODE'] == '1C2') | (vios['New I_CODE'] == '148') |\n",
    "                  (vios['New I_CODE'] == '2G5') | (vios['New I_CODE'] == '261') |\n",
    "                  (vios['New I_CODE'] == '1K5') | (vios['New I_CODE'] == '2F7') |\n",
    "                  (vios['New I_CODE'] == '223') | (vios['New I_CODE'] == '149') |\n",
    "                  (vios['New I_CODE'] == '121')].index\n",
    "\n",
    "#delete these row indexes from dataFrame\n",
    "vios.drop(indexNames, inplace=True)"
   ]
  },
  {
   "cell_type": "code",
   "execution_count": 11,
   "metadata": {},
   "outputs": [
    {
     "name": "stdout",
     "output_type": "stream",
     "text": [
      "119    554\n",
      "1F2    290\n",
      "209    198\n",
      "1G6    190\n",
      "115    167\n",
      "109    140\n",
      "191    123\n",
      "147    116\n",
      "182    113\n",
      "210     79\n",
      "2A7     74\n",
      "1G5     42\n",
      "201     40\n",
      "114     37\n",
      "102     30\n",
      "131     21\n",
      "282     19\n",
      "101     16\n",
      "181     13\n",
      "214     13\n",
      "110     11\n",
      "Name: New I_CODE, dtype: int64\n"
     ]
    }
   ],
   "source": [
    "print(vios['New I_CODE'].value_counts())"
   ]
  },
  {
   "cell_type": "code",
   "execution_count": 12,
   "metadata": {
    "scrolled": true
   },
   "outputs": [
    {
     "name": "stdout",
     "output_type": "stream",
     "text": [
      "      Complaint Number Previous ECB#      ECB # License# Rep  \\\n",
      "0              3688599     35385618J  35385618J     GC614625   \n",
      "1              4789669     35455738P  35455738P     GC616606   \n",
      "2              1523484     35453536H  35453536H      GC23947   \n",
      "3              3716783     35448329Z  35448329Z     GC616014   \n",
      "4              4785607     35449079J  35449079J     GC603645   \n",
      "...                ...           ...        ...          ...   \n",
      "2351           2294279     35468203L  35468203L          NaN   \n",
      "2352           1525088     35461711X  35461711X     GC617778   \n",
      "2353           4799806     35462694H  35462694H          NaN   \n",
      "2354           1530808     35463860Z  35463860Z       GC6501   \n",
      "2355           4799678     35462917X  35462917X     GC618588   \n",
      "\n",
      "                     Respondent I_CODE Section of Law  \\\n",
      "0     KISHAN PLUMBING & HEATING    101        28.1051   \n",
      "1        METROCITY CONSTRUCTION    101        28.1051   \n",
      "2         PAVARIA MC GOVERN LLC    101        28.1051   \n",
      "3     S GOOLCHARAN CONSTRUCTION    101        28.1051   \n",
      "4         CNY CONSTRUCTION, LLC    101        28.1051   \n",
      "...                         ...    ...            ...   \n",
      "2351                        NaN      3         28.116   \n",
      "2352        KAJ NY CONSTRUCTION      3         28.116   \n",
      "2353                        NaN      3         28.116   \n",
      "2354              ARFAN MAHMOOD      3         28.116   \n",
      "2355          STAR BUILDERS INC      3         28.116   \n",
      "\n",
      "                                  Violation Description New I_CODE  \\\n",
      "0                                Work without a permit.        101   \n",
      "1                                Work without a permit.        101   \n",
      "2                                Work without a permit.        101   \n",
      "3                                Work without a permit.        101   \n",
      "4                                Work without a permit.        101   \n",
      "...                                                 ...        ...   \n",
      "2351  Failure of permit holder to provide inspection...          3   \n",
      "2352  Failure of permit holder to provide inspection...          3   \n",
      "2353  Failure of permit holder to provide inspection...          3   \n",
      "2354  Failure of permit holder to provide inspection...          3   \n",
      "2355  Failure of permit holder to provide inspection...          3   \n",
      "\n",
      "                                       Complaint Reason  Inspection Date  \\\n",
      "0      WORK WITHOUT PERMIT, SUPERINTENDENT/COMP. PERSON   2/26/2019 0:00   \n",
      "1     EXPIRED WORK PERMIT 08-17-19. NO CAZ/OHP @EXP1...   9/16/2019 0:00   \n",
      "2     SUPP SCAFF INSTALLED @ ELEVATOR SHAFT W/O A PE...   10/2/2019 0:00   \n",
      "3                            ALT PERMIT EXPIRED 7/25/19   8/13/2019 0:00   \n",
      "4                            NO PERMIT FOR NEEDLE BEAMS   8/12/2019 0:00   \n",
      "...                                                 ...              ...   \n",
      "2351                        SUSPENDED CONTRARY TO PLANS  12/26/2019 0:00   \n",
      "2352  SWS CONTRARY TO PLANS/SWS VERTICAL POSTS NOT P...  12/24/2019 0:00   \n",
      "2353  NO DOT PERMITS FOR STREET OCCUPANCY AND CROSS ...  12/23/2019 0:00   \n",
      "2354  NO NOTIFICATION TO DEPART PRIOR TO INSTALL SUS...  12/23/2019 0:00   \n",
      "2355  NO SSP.NO DAILY LOG. RE-SHORES CONTRARY TO PLA...  12/20/2019 0:00   \n",
      "\n",
      "      BIN Number Complaint  Category        Complaint  Category Description  \\\n",
      "0        3061534                  8A  CONSTRUCTION SAFETY COMPLIANCE ACTION   \n",
      "1        4012207                  8A  CONSTRUCTION SAFETY COMPLIANCE ACTION   \n",
      "2        1089974                  8A  CONSTRUCTION SAFETY COMPLIANCE ACTION   \n",
      "3        3077509                  8A  CONSTRUCTION SAFETY COMPLIANCE ACTION   \n",
      "4        4607281                  8A  CONSTRUCTION SAFETY COMPLIANCE ACTION   \n",
      "...          ...                 ...                                    ...   \n",
      "2351     2128439                  8A  CONSTRUCTION SAFETY COMPLIANCE ACTION   \n",
      "2352     1000807                  8A  CONSTRUCTION SAFETY COMPLIANCE ACTION   \n",
      "2353     4210575                  8A  CONSTRUCTION SAFETY COMPLIANCE ACTION   \n",
      "2354     1012831                  8A  CONSTRUCTION SAFETY COMPLIANCE ACTION   \n",
      "2355     4051460                  8A  CONSTRUCTION SAFETY COMPLIANCE ACTION   \n",
      "\n",
      "      Complaint  Sub Category 1   1st Unit Assigned Description  \\\n",
      "0                             2  CONSTRUCTION SAFETY COMPLIANCE   \n",
      "1                             2  CONSTRUCTION SAFETY COMPLIANCE   \n",
      "2                             3  CONSTRUCTION SAFETY COMPLIANCE   \n",
      "3                             2  CONSTRUCTION SAFETY COMPLIANCE   \n",
      "4                             3  CONSTRUCTION SAFETY COMPLIANCE   \n",
      "...                         ...                             ...   \n",
      "2351                          2  CONSTRUCTION SAFETY COMPLIANCE   \n",
      "2352                          3  CONSTRUCTION SAFETY COMPLIANCE   \n",
      "2353                          2  CONSTRUCTION SAFETY COMPLIANCE   \n",
      "2354                          4  CONSTRUCTION SAFETY COMPLIANCE   \n",
      "2355                          2  CONSTRUCTION SAFETY COMPLIANCE   \n",
      "\n",
      "     Disposition Date Disposition Code  \\\n",
      "0      2/28/2019 0:00               A3   \n",
      "1      9/17/2019 0:00               A3   \n",
      "2      10/3/2019 0:00               L1   \n",
      "3      8/15/2019 0:00               A3   \n",
      "4      8/13/2019 0:00               A3   \n",
      "...               ...              ...   \n",
      "2351  12/26/2019 0:00               L1   \n",
      "2352  12/26/2019 0:00               L1   \n",
      "2353  12/23/2019 0:00               L1   \n",
      "2354  12/24/2019 0:00               L1   \n",
      "2355  12/21/2019 0:00               A3   \n",
      "\n",
      "                      Complaint Disposition Description  Inspector ID  \n",
      "0     FULL STOP WORK ORDER SERVED                   ...          3055  \n",
      "1     FULL STOP WORK ORDER SERVED                   ...          3050  \n",
      "2     PARTIAL STOP WORK ORDER                       ...          3077  \n",
      "3     FULL STOP WORK ORDER SERVED                   ...          2982  \n",
      "4     FULL STOP WORK ORDER SERVED                   ...          3050  \n",
      "...                                                 ...           ...  \n",
      "2351  PARTIAL STOP WORK ORDER                       ...          3141  \n",
      "2352  PARTIAL STOP WORK ORDER                       ...          3086  \n",
      "2353  PARTIAL STOP WORK ORDER                       ...          3117  \n",
      "2354  PARTIAL STOP WORK ORDER                       ...          3086  \n",
      "2355  FULL STOP WORK ORDER SERVED                   ...          2987  \n",
      "\n",
      "[2286 rows x 20 columns]\n"
     ]
    },
    {
     "name": "stderr",
     "output_type": "stream",
     "text": [
      "C:\\Users\\evasi\\Anaconda3\\lib\\site-packages\\ipykernel_launcher.py:2: SettingWithCopyWarning: \n",
      "A value is trying to be set on a copy of a slice from a DataFrame\n",
      "\n",
      "See the caveats in the documentation: http://pandas.pydata.org/pandas-docs/stable/user_guide/indexing.html#returning-a-view-versus-a-copy\n",
      "  \n",
      "C:\\Users\\evasi\\Anaconda3\\lib\\site-packages\\ipykernel_launcher.py:3: SettingWithCopyWarning: \n",
      "A value is trying to be set on a copy of a slice from a DataFrame\n",
      "\n",
      "See the caveats in the documentation: http://pandas.pydata.org/pandas-docs/stable/user_guide/indexing.html#returning-a-view-versus-a-copy\n",
      "  This is separate from the ipykernel package so we can avoid doing imports until\n",
      "C:\\Users\\evasi\\Anaconda3\\lib\\site-packages\\ipykernel_launcher.py:4: SettingWithCopyWarning: \n",
      "A value is trying to be set on a copy of a slice from a DataFrame\n",
      "\n",
      "See the caveats in the documentation: http://pandas.pydata.org/pandas-docs/stable/user_guide/indexing.html#returning-a-view-versus-a-copy\n",
      "  after removing the cwd from sys.path.\n",
      "C:\\Users\\evasi\\Anaconda3\\lib\\site-packages\\ipykernel_launcher.py:5: SettingWithCopyWarning: \n",
      "A value is trying to be set on a copy of a slice from a DataFrame\n",
      "\n",
      "See the caveats in the documentation: http://pandas.pydata.org/pandas-docs/stable/user_guide/indexing.html#returning-a-view-versus-a-copy\n",
      "  \"\"\"\n"
     ]
    }
   ],
   "source": [
    "#recoding long way\n",
    "vios['New I_CODE'][vios['New I_CODE'] == '1F2'] = '1'\n",
    "vios['New I_CODE'][vios['New I_CODE'] == '1G6'] = '2'\n",
    "vios['New I_CODE'][vios['New I_CODE'] == '2A7'] = '3'\n",
    "vios['New I_CODE'][vios['New I_CODE'] == '1G5'] = '6'\n",
    "print(vios)"
   ]
  },
  {
   "cell_type": "code",
   "execution_count": 13,
   "metadata": {},
   "outputs": [
    {
     "name": "stdout",
     "output_type": "stream",
     "text": [
      "I_CODE            object\n",
      "Section of Law    object\n",
      "New I_CODE        object\n",
      "BIN Number         int64\n",
      "Inspector ID       int64\n",
      "dtype: object\n"
     ]
    }
   ],
   "source": [
    "#rid of columns not needed\n",
    "vios = vios.drop([\"Previous ECB#\",\"Complaint Number\",\"License# Rep\",\n",
    "                 \"Respondent\",\"Violation Description\",\"Complaint Reason\",\n",
    "                 \"Inspection Date\",\"Complaint  Sub Category 1\",\n",
    "                 \"Disposition Date\",\"Disposition Code\",\n",
    "                 \"Complaint Disposition Description\",\n",
    "                 \"ECB #\", \"Complaint  Category\",\n",
    "                 \"Complaint  Category Description\",\n",
    "                 \"1st Unit Assigned Description\"],axis=1)\n",
    "print(vios.dtypes)"
   ]
  },
  {
   "cell_type": "code",
   "execution_count": 14,
   "metadata": {},
   "outputs": [
    {
     "name": "stdout",
     "output_type": "stream",
     "text": [
      "I_CODE            object\n",
      "Section of Law    object\n",
      "BIN Number         int64\n",
      "Inspector ID       int64\n",
      "New I_CODE        object\n",
      "dtype: object\n"
     ]
    }
   ],
   "source": [
    "#reorder columns_move New I_CODE to the end\n",
    "cols_at_end = ['New I_CODE']\n",
    "vios = vios[[c for c in vios if c not in cols_at_end] \n",
    "        + [c for c in cols_at_end if c in vios]]\n",
    "\n",
    "print(vios.dtypes)"
   ]
  },
  {
   "cell_type": "markdown",
   "metadata": {},
   "source": [
    "## **Target: New I_Code, New Violation Code**"
   ]
  },
  {
   "cell_type": "code",
   "execution_count": 15,
   "metadata": {},
   "outputs": [
    {
     "data": {
      "image/png": "[encoded data removed]",
      "text/plain": [
       "<Figure size 432x288 with 1 Axes>"
      ]
     },
     "metadata": {},
     "output_type": "display_data"
    },
    {
     "data": {
      "text/plain": [
       "<Figure size 2160x1440 with 0 Axes>"
      ]
     },
     "metadata": {},
     "output_type": "display_data"
    }
   ],
   "source": [
    "# histograms for categorical data types; New I_CODE (target)\n",
    "import seaborn as sns\n",
    "sns.set(style=\"darkgrid\")\n",
    "inf = sns.countplot(x=\"New I_CODE\",data=vios,\n",
    "                   order=vios[\"New I_CODE\"].value_counts().iloc[:15].index)\n",
    "plt.figure(figsize=(30,20))\n",
    "plt.show()"
   ]
  },
  {
   "cell_type": "markdown",
   "metadata": {},
   "source": [
    "## **Stratified Shuffle Split**"
   ]
  },
  {
   "cell_type": "code",
   "execution_count": 16,
   "metadata": {},
   "outputs": [
    {
     "name": "stdout",
     "output_type": "stream",
     "text": [
      "X.shape: (2286, 4) y.shape: (2286,)\n"
     ]
    }
   ],
   "source": [
    "#StratifiedShuffleSplit\n",
    "from sklearn.model_selection import StratifiedShuffleSplit\n",
    "\n",
    "features = vios.loc[:,'I_CODE':'Inspector ID']\n",
    "X = features.values\n",
    "y = vios['New I_CODE'].values\n",
    "print(\"X.shape: {} y.shape: {}\".format(X.shape,y.shape))\n",
    "\n",
    "split = StratifiedShuffleSplit(n_splits=1,test_size=0.2,\n",
    "                              random_state=42)\n",
    "for train_index, test_index in split.split(X,y):\n",
    "    X_train = X[train_index]\n",
    "    X_test = X[test_index]\n",
    "    y_train = y[train_index]\n",
    "    y_test = y[test_index]"
   ]
  },
  {
   "cell_type": "markdown",
   "metadata": {},
   "source": [
    "## **K-Nearest Neighbors**"
   ]
  },
  {
   "cell_type": "code",
   "execution_count": 17,
   "metadata": {},
   "outputs": [
    {
     "name": "stdout",
     "output_type": "stream",
     "text": [
      "cv_scores:\n",
      "[0.23655914 0.26344086 0.22615804 0.21052632 0.26123596]\n",
      "cv_scores mean:\n",
      "0.2395840617985585\n"
     ]
    },
    {
     "data": {
      "image/png": "[encoded data removed]",
      "text/plain": [
       "<Figure size 432x288 with 1 Axes>"
      ]
     },
     "metadata": {},
     "output_type": "display_data"
    }
   ],
   "source": [
    "#k-Nearest Neighbors\n",
    "from sklearn.neighbors import KNeighborsClassifier\n",
    "#cross validation knn\n",
    "from sklearn.model_selection import cross_val_score\n",
    "\n",
    "training_accuracy = []\n",
    "test_accuracy = []\n",
    "\n",
    "#try n-neighbors from 1 to 15\n",
    "neighbors_settings = range(1,16)\n",
    "\n",
    "#creating for loop with model + cross validation\n",
    "for n_neighbors in neighbors_settings:\n",
    "    knn = KNeighborsClassifier(n_neighbors=n_neighbors)\n",
    "    knn.fit(X_train,y_train)\n",
    "    #recording training set accuracy\n",
    "    training_accuracy.append(knn.score(X_train,y_train))\n",
    "    #recording generalization accuracy\n",
    "    test_accuracy.append(knn.score(X_test,y_test))\n",
    "    \n",
    "#5-fold cross validation (number can change)\n",
    "cv_scores = cross_val_score(knn,X_train,y_train,cv=5)\n",
    "\n",
    "print(\"cv_scores:\\n{}\".format(cv_scores))\n",
    "print(\"cv_scores mean:\\n{}\".format(np.mean(cv_scores)))\n",
    "    \n",
    "plt.plot(neighbors_settings, training_accuracy, label=\"training accuracy\")\n",
    "plt.plot(neighbors_settings, test_accuracy, label=\"test accuracy\")\n",
    "plt.ylabel(\"Accuracy\")\n",
    "plt.xlabel(\"n_neighbors\")\n",
    "plt.legend()\n",
    "plt.show()"
   ]
  },
  {
   "cell_type": "markdown",
   "metadata": {},
   "source": [
    "### **Knn: Manhattan Distance**"
   ]
  },
  {
   "cell_type": "code",
   "execution_count": 18,
   "metadata": {},
   "outputs": [
    {
     "data": {
      "text/plain": [
       "<matplotlib.legend.Legend at 0x2a509975708>"
      ]
     },
     "execution_count": 18,
     "metadata": {},
     "output_type": "execute_result"
    },
    {
     "data": {
      "image/png": "[encoded data removed]",
      "text/plain": [
       "<Figure size 432x288 with 1 Axes>"
      ]
     },
     "metadata": {},
     "output_type": "display_data"
    }
   ],
   "source": [
    "#used both manhattan and weighted with inverse distance\n",
    "#inverse distance did not look any different from original\n",
    "#kept manhattan as changes are seen in the graph\n",
    "training_accuracy = []\n",
    "test_accuracy = []\n",
    "# try n_neighbors from 1 to 15\n",
    "neighbors_settings = range(1, 16)\n",
    "\n",
    "for n_neighbors in neighbors_settings:\n",
    "    # build the model\n",
    "    knn = KNeighborsClassifier(n_neighbors=n_neighbors,metric='manhattan')\n",
    "    knn.fit(X_train, y_train)\n",
    "    # record training set accuracy\n",
    "    training_accuracy.append(knn.score(X_train, y_train))\n",
    "    # record generalization accuracy\n",
    "    test_accuracy.append(knn.score(X_test, y_test))\n",
    "    \n",
    "plt.plot(neighbors_settings, training_accuracy, label=\"training accuracy\")\n",
    "plt.plot(neighbors_settings, test_accuracy, label=\"test accuracy\")\n",
    "plt.ylabel(\"Accuracy\")\n",
    "plt.xlabel(\"n_neighbors\")\n",
    "plt.legend()"
   ]
  },
  {
   "cell_type": "markdown",
   "metadata": {},
   "source": [
    "### **Knn: Changing the Algorithm, Algorithm = Auto**"
   ]
  },
  {
   "cell_type": "code",
   "execution_count": 19,
   "metadata": {},
   "outputs": [
    {
     "data": {
      "text/plain": [
       "<matplotlib.legend.Legend at 0x2a5099eefc8>"
      ]
     },
     "execution_count": 19,
     "metadata": {},
     "output_type": "execute_result"
    },
    {
     "data": {
      "image/png": "[encoded data removed]",
      "text/plain": [
       "<Figure size 432x288 with 1 Axes>"
      ]
     },
     "metadata": {},
     "output_type": "display_data"
    }
   ],
   "source": [
    "#using auto\n",
    "training_accuracy = []\n",
    "test_accuracy = []\n",
    "# try n_neighbors from 1 to 10\n",
    "neighbors_settings = range(1, 16)\n",
    "\n",
    "for n_neighbors in neighbors_settings:\n",
    "    # build the model\n",
    "    knn = KNeighborsClassifier(n_neighbors=n_neighbors,algorithm=\"auto\")\n",
    "    knn.fit(X_train, y_train)\n",
    "    # record training set accuracy\n",
    "    training_accuracy.append(knn.score(X_train, y_train))\n",
    "    # record generalization accuracy\n",
    "    test_accuracy.append(knn.score(X_test, y_test))\n",
    "    \n",
    "plt.plot(neighbors_settings, training_accuracy, label=\"training accuracy\")\n",
    "plt.plot(neighbors_settings, test_accuracy, label=\"test accuracy\")\n",
    "plt.ylabel(\"Accuracy\")\n",
    "plt.xlabel(\"n_neighbors\")\n",
    "plt.legend()"
   ]
  },
  {
   "cell_type": "markdown",
   "metadata": {},
   "source": [
    "### **Knn: Algorithm = Brute**"
   ]
  },
  {
   "cell_type": "code",
   "execution_count": 20,
   "metadata": {},
   "outputs": [
    {
     "data": {
      "text/plain": [
       "<matplotlib.legend.Legend at 0x2a5098eaa48>"
      ]
     },
     "execution_count": 20,
     "metadata": {},
     "output_type": "execute_result"
    },
    {
     "data": {
      "image/png": "[encoded data removed]",
      "text/plain": [
       "<Figure size 432x288 with 1 Axes>"
      ]
     },
     "metadata": {},
     "output_type": "display_data"
    }
   ],
   "source": [
    "#using brute\n",
    "training_accuracy = []\n",
    "test_accuracy = []\n",
    "# try n_neighbors from 1 to 10\n",
    "neighbors_settings = range(1, 16)\n",
    "\n",
    "for n_neighbors in neighbors_settings:\n",
    "    # build the model\n",
    "    knn = KNeighborsClassifier(n_neighbors=n_neighbors,algorithm=\"brute\")\n",
    "    knn.fit(X_train, y_train)\n",
    "    # record training set accuracy\n",
    "    training_accuracy.append(knn.score(X_train, y_train))\n",
    "    # record generalization accuracy\n",
    "    test_accuracy.append(knn.score(X_test, y_test))\n",
    "    \n",
    "plt.plot(neighbors_settings, training_accuracy, label=\"training accuracy\")\n",
    "plt.plot(neighbors_settings, test_accuracy, label=\"test accuracy\")\n",
    "plt.ylabel(\"Accuracy\")\n",
    "plt.xlabel(\"n_neighbors\")\n",
    "plt.legend()"
   ]
  },
  {
   "cell_type": "markdown",
   "metadata": {},
   "source": [
    "### **Knn: Grid Search**"
   ]
  },
  {
   "cell_type": "code",
   "execution_count": 25,
   "metadata": {},
   "outputs": [
    {
     "data": {
      "text/plain": [
       "GridSearchCV(cv=5, error_score='raise-deprecating',\n",
       "             estimator=KNeighborsClassifier(algorithm='auto', leaf_size=30,\n",
       "                                            metric='minkowski',\n",
       "                                            metric_params=None, n_jobs=None,\n",
       "                                            n_neighbors=5, p=2,\n",
       "                                            weights='uniform'),\n",
       "             iid='warn', n_jobs=None,\n",
       "             param_grid={'n_neighbors': array([ 1,  2,  3,  4,  5,  6,  7,  8,  9, 10, 11, 12, 13, 14, 15, 16, 17,\n",
       "       18, 19, 20, 21, 22, 23, 24])},\n",
       "             pre_dispatch='2*n_jobs', refit=True, return_train_score=False,\n",
       "             scoring=None, verbose=0)"
      ]
     },
     "execution_count": 25,
     "metadata": {},
     "output_type": "execute_result"
    }
   ],
   "source": [
    "from sklearn.model_selection import GridSearchCV\n",
    "\n",
    "knn2 = KNeighborsClassifier()\n",
    "\n",
    "#dictionary of all values of k\n",
    "param_grid = {\"n_neighbors\": np.arange(1, 25)}\n",
    "\n",
    "#grid search on all values of k in dictionary\n",
    "knn_gscv = GridSearchCV(knn2, param_grid, cv=5)\n",
    "knn_gscv.fit(X_train, y_train)"
   ]
  },
  {
   "cell_type": "code",
   "execution_count": 26,
   "metadata": {},
   "outputs": [
    {
     "data": {
      "text/plain": [
       "{'n_neighbors': 1}"
      ]
     },
     "execution_count": 26,
     "metadata": {},
     "output_type": "execute_result"
    }
   ],
   "source": [
    "#best performing k (on training set)\n",
    "knn_gscv.best_params_"
   ]
  },
  {
   "cell_type": "code",
   "execution_count": 27,
   "metadata": {},
   "outputs": [
    {
     "data": {
      "text/plain": [
       "0.3085339168490153"
      ]
     },
     "execution_count": 27,
     "metadata": {},
     "output_type": "execute_result"
    }
   ],
   "source": [
    "#accuracy of best performing k\n",
    "knn_gscv.best_score_"
   ]
  },
  {
   "cell_type": "code",
   "execution_count": 28,
   "metadata": {},
   "outputs": [
    {
     "name": "stdout",
     "output_type": "stream",
     "text": [
      "knn score: 0.34934497816593885\n"
     ]
    }
   ],
   "source": [
    "# accuracy of k = 1 on testing data \n",
    "knn = KNeighborsClassifier(n_neighbors=1)\n",
    "knn.fit(X_train, y_train)\n",
    "print(\"knn score: {}\".format(knn.score(X_test, y_test)))"
   ]
  },
  {
   "cell_type": "markdown",
   "metadata": {},
   "source": [
    "### **Knn: Confusion Matrix**"
   ]
  },
  {
   "cell_type": "code",
   "execution_count": 29,
   "metadata": {
    "scrolled": true
   },
   "outputs": [
    {
     "name": "stdout",
     "output_type": "stream",
     "text": [
      "Confusion matrix:\n",
      "[[26  0  0  4  1  0  7 13  0  1  0  0  1  2  0  0  0  0  0  1  2]\n",
      " [ 0  1  0  2  0  0  0  0  0  0  0  0  0  0  0  0  0  0  0  0  0]\n",
      " [ 0  0  0  1  0  0  0  0  1  1  0  1  0  2  0  0  0  0  0  0  0]\n",
      " [ 2  1  0 11  0  0  1  3  0  3  0  2  2  2  0  0  1  0  0  0  0]\n",
      " [ 0  0  0  0  2  0  0  0  0  0  0  0  0  0  0  0  0  0  0  0  0]\n",
      " [ 0  0  0  1  0  1  0  1  1  1  0  1  1  0  0  0  0  0  0  0  0]\n",
      " [ 7  0  0  2  0  0 11 12  0  0  0  1  0  0  0  0  0  0  0  0  0]\n",
      " [23  0  0  4  2  0 17 59  0  1  0  0  0  3  0  1  0  0  0  0  1]\n",
      " [ 1  0  0  0  0  0  0  0  1  1  0  0  0  0  0  0  0  0  1  0  0]\n",
      " [ 0  0  1  3  0  2  0  0  0 12  0  2  1  2  0  0  0  0  0  0  0]\n",
      " [ 0  0  0  0  0  0  1  2  0  0  0  0  0  0  0  0  0  0  0  0  0]\n",
      " [ 1  1  0  1  0  3  1  1  3  2  0  8  1  1  0  0  0  0  0  0  0]\n",
      " [ 1  0  2  2  0  1  0  2  2  5  0  5  3  0  0  0  2  0  0  0  0]\n",
      " [11  0  0  3  0  0  6  9  0  1  0  3  0  3  0  0  2  0  0  0  0]\n",
      " [ 1  0  0  0  0  0  0  0  0  1  0  3  3  0  0  0  0  0  0  0  0]\n",
      " [ 6  0  0  2  1  0  5 19  0  0  0  0  1  1  0  4  0  0  0  1  0]\n",
      " [ 0  1  1  4  0  0  0  0  0  1  0  5  2  0  0  0  1  0  0  1  0]\n",
      " [ 0  2  0  0  0  0  0  0  0  0  0  1  0  0  0  0  0  0  0  0  0]\n",
      " [ 0  0  0  2  0  0  0  0  0  2  0  0  0  0  0  0  0  0  0  0  0]\n",
      " [ 1  0  1  1  0  1  0  0  0  5  0  2  3  1  0  0  0  0  0  0  0]\n",
      " [ 2  0  0  2  0  0  0  3  0  0  0  0  0  0  0  0  0  0  0  0  1]]\n"
     ]
    }
   ],
   "source": [
    "#Confusion Matrix\n",
    "knn2 = KNeighborsClassifier(n_neighbors=2)\n",
    "knn2.fit(X_train, y_train)\n",
    "\n",
    "from sklearn.metrics import confusion_matrix\n",
    "confusion = confusion_matrix(y_test, knn2.predict(X_test))\n",
    "print(\"Confusion matrix:\\n{}\".format(confusion))"
   ]
  },
  {
   "cell_type": "code",
   "execution_count": 30,
   "metadata": {
    "scrolled": true
   },
   "outputs": [
    {
     "name": "stdout",
     "output_type": "stream",
     "text": [
      "Confusion matrix:\n",
      "[[19  0  0  2  1  0  6 15  0  1  0  0  1  5  0  2  0  0  0  1  5]\n",
      " [ 0  1  0  2  0  0  0  0  0  0  0  0  0  0  0  0  0  0  0  0  0]\n",
      " [ 0  0  0  0  0  0  0  0  0  1  0  1  1  1  1  0  1  0  0  0  0]\n",
      " [ 0  1  0  9  0  0  1  5  0  2  0  2  3  3  0  1  1  0  0  0  0]\n",
      " [ 0  0  0  0  2  0  0  0  0  0  0  0  0  0  0  0  0  0  0  0  0]\n",
      " [ 0  0  0  1  0  0  0  0  1  1  0  1  2  0  0  0  0  0  0  1  0]\n",
      " [ 4  0  0  2  0  0 11 12  0  0  0  1  0  2  0  1  0  0  0  0  0]\n",
      " [10  0  0  4  2  0  9 70  0  1  2  0  0  4  0  8  0  0  0  0  1]\n",
      " [ 0  0  0  0  0  0  0  0  0  1  0  1  0  1  0  0  0  0  0  1  0]\n",
      " [ 0  0  1  1  0  2  0  0  0  5  0  1  5  1  0  0  4  1  2  0  0]\n",
      " [ 0  0  0  0  0  0  0  3  0  0  0  0  0  0  0  0  0  0  0  0  0]\n",
      " [ 1  0  0  1  0  1  1  0  1  3  0  8  3  0  2  0  1  1  0  0  0]\n",
      " [ 0  0  1  3  0  1  0  2  2  4  0  4  3  0  1  0  1  0  0  3  0]\n",
      " [ 7  0  0  2  0  0  1 10  0  0  0  2  0  8  0  4  2  0  2  0  0]\n",
      " [ 1  0  0  0  0  0  0  0  0  0  0  2  1  0  2  0  0  2  0  0  0]\n",
      " [ 1  0  0  0  1  0  2 18  0  0  0  0  0  2  0 14  0  0  0  1  1]\n",
      " [ 0  1  1  0  0  0  0  0  0  1  0  6  3  0  0  0  3  0  0  1  0]\n",
      " [ 0  0  0  0  0  0  0  0  0  0  0  1  2  0  0  0  0  0  0  0  0]\n",
      " [ 0  0  0  2  0  0  0  0  0  0  0  0  1  0  0  0  0  0  1  0  0]\n",
      " [ 1  0  1  0  0  1  0  0  0  3  0  3  2  1  0  0  1  0  0  2  0]\n",
      " [ 1  0  0  1  0  0  1  2  0  0  0  0  0  0  0  1  0  0  0  0  2]]\n"
     ]
    }
   ],
   "source": [
    "#Using Confusion Matrix for Best Params\n",
    "knn1 = KNeighborsClassifier(n_neighbors=1)\n",
    "knn1.fit(X_train, y_train)\n",
    "\n",
    "from sklearn.metrics import confusion_matrix\n",
    "confusion = confusion_matrix(y_test, knn1.predict(X_test))\n",
    "print(\"Confusion matrix:\\n{}\".format(confusion))"
   ]
  },
  {
   "cell_type": "code",
   "execution_count": 31,
   "metadata": {},
   "outputs": [
    {
     "name": "stdout",
     "output_type": "stream",
     "text": [
      "              precision    recall  f1-score   support\n",
      "\n",
      "         119       0.32      0.45      0.37        58\n",
      "         1F2       0.17      0.33      0.22         3\n",
      "         209       0.00      0.00      0.00         6\n",
      "         1G6       0.24      0.39      0.30        28\n",
      "         115       0.33      1.00      0.50         2\n",
      "         109       0.12      0.14      0.13         7\n",
      "         191       0.22      0.33      0.27        33\n",
      "         147       0.48      0.53      0.50       111\n",
      "         182       0.12      0.25      0.17         4\n",
      "         210       0.32      0.52      0.40        23\n",
      "         2A7       0.00      0.00      0.00         3\n",
      "         1G5       0.24      0.35      0.28        23\n",
      "         201       0.17      0.12      0.14        25\n",
      "         114       0.18      0.08      0.11        38\n",
      "         102       0.00      0.00      0.00         8\n",
      "         131       0.80      0.10      0.18        40\n",
      "         282       0.17      0.06      0.09        16\n",
      "         101       0.00      0.00      0.00         3\n",
      "         181       0.00      0.00      0.00         4\n",
      "         214       0.00      0.00      0.00        15\n",
      "         110       0.25      0.12      0.17         8\n",
      "\n",
      "    accuracy                           0.31       458\n",
      "   macro avg       0.20      0.23      0.18       458\n",
      "weighted avg       0.32      0.31      0.29       458\n",
      "\n"
     ]
    }
   ],
   "source": [
    "#Precision - Recall- F1 Score\n",
    "from sklearn.metrics import classification_report\n",
    "print(classification_report(y_test, knn2.predict(X_test),\n",
    "                            target_names=[\"119\",\"1F2\",\"209\",\n",
    "                                          \"1G6\",\"115\",\"109\",\n",
    "                                          \"191\",\"147\",\"182\",\n",
    "                                          \"210\",\"2A7\",\"1G5\",\n",
    "                                          \"201\",\"114\",\"102\",\n",
    "                                          \"131\",\"282\",\"101\",\n",
    "                                          \"181\",\"214\",\"110\"]))"
   ]
  },
  {
   "cell_type": "markdown",
   "metadata": {},
   "source": [
    "## **Support Vector Machines**"
   ]
  },
  {
   "cell_type": "code",
   "execution_count": null,
   "metadata": {},
   "outputs": [],
   "source": [
    "##tried to run SVM but it doesn't load, so I commented out\n",
    "##below is my last tried using cross validation\n",
    "#from sklearn.svm import SVC\n",
    "\n",
    "#cv = StratifiedShuffleSplit(n_splits=5, test_size=0.2,random_state=42)"
   ]
  },
  {
   "cell_type": "code",
   "execution_count": null,
   "metadata": {},
   "outputs": [],
   "source": [
    "##grid search cv\n",
    "##from sklearn.model_selection import GridSearchCV\n",
    "#C_range = np.logspace(-2,10,13)\n",
    "#gamma_range = np.logspace(-9,3,13)\n",
    "#param_grid = dict(gamma=gamma_range, C=C_range)"
   ]
  },
  {
   "cell_type": "markdown",
   "metadata": {},
   "source": [
    "### **SVM: Polynomial**"
   ]
  },
  {
   "cell_type": "code",
   "execution_count": null,
   "metadata": {},
   "outputs": [],
   "source": [
    "## polynomial kernel\n",
    "#gridPoly = GridSearchCV(SVC(kernel='poly'), param_grid=param_grid, cv=cv)\n",
    "#gridPoly.fit(X_train, y_train)\n",
    "\n",
    "#print(\"The best parameters are %s with a score of %0.2f\"\n",
    "#      % (gridPoly.best_params_, gridPoly.best_score_))"
   ]
  },
  {
   "cell_type": "code",
   "execution_count": null,
   "metadata": {},
   "outputs": [],
   "source": [
    "# # polynomial kernel\n",
    "# svmPolyGrid = SVC(kernel='poly', C=0.1, gamma=0.1).fit(X_train, y_train)\n",
    "\n",
    "# print(\"Accuracy on training set: {:.2f}\".format(svmPolyGrid.score(X_train, y_train)))\n",
    "# print(\"Accuracy on test set: {:.2f}\".format(svmPolyGrid.score(X_test, y_test)))"
   ]
  },
  {
   "cell_type": "markdown",
   "metadata": {},
   "source": [
    "### **SVM: Radial**"
   ]
  },
  {
   "cell_type": "code",
   "execution_count": null,
   "metadata": {},
   "outputs": [],
   "source": [
    "# #rbf kernel\n",
    "# gridRBF = GridSearchCV(SVC(kernel='rbf'), param_grid=param_grid, cv=cv)\n",
    "# gridRBF.fit(X_train, y_train)\n",
    "\n",
    "# print(\"The best parameters are %s with a score of %0.2f\"\n",
    "#       % (gridRBF.best_params_, gridRBF.best_score_))"
   ]
  },
  {
   "cell_type": "code",
   "execution_count": null,
   "metadata": {},
   "outputs": [],
   "source": [
    "# svmRBFgrid = SVC(kernel='rbf', C=1, gamma=0.1).fit(X_train, y_train)\n",
    "\n",
    "# print(\"Accuracy on training set: {:.2f}\".format(svmRBFgrid.score(X_train, y_train)))\n",
    "# print(\"Accuracy on test set: {:.2f}\".format(svmRBFgrid.score(X_test, y_test)))"
   ]
  },
  {
   "cell_type": "markdown",
   "metadata": {},
   "source": [
    "## **Decision Trees**"
   ]
  },
  {
   "cell_type": "code",
   "execution_count": 32,
   "metadata": {},
   "outputs": [
    {
     "name": "stdout",
     "output_type": "stream",
     "text": [
      "Accuracy on training set: 1.000\n",
      "Accuracy on test set: 0.913\n",
      "              precision    recall  f1-score   support\n",
      "\n",
      "         119       0.95      0.93      0.94        58\n",
      "         1F2       0.60      1.00      0.75         3\n",
      "         209       1.00      1.00      1.00         6\n",
      "         1G6       0.54      0.50      0.52        28\n",
      "         115       1.00      1.00      1.00         2\n",
      "         109       0.11      0.14      0.12         7\n",
      "         191       0.97      0.97      0.97        33\n",
      "         147       0.98      1.00      0.99       111\n",
      "         182       0.50      0.50      0.50         4\n",
      "         210       0.90      0.83      0.86        23\n",
      "         2A7       1.00      1.00      1.00         3\n",
      "         1G5       1.00      1.00      1.00        23\n",
      "         201       0.92      0.96      0.94        25\n",
      "         114       1.00      0.89      0.94        38\n",
      "         102       1.00      1.00      1.00         8\n",
      "         131       0.98      1.00      0.99        40\n",
      "         282       0.71      0.75      0.73        16\n",
      "         101       1.00      1.00      1.00         3\n",
      "         181       1.00      1.00      1.00         4\n",
      "         214       1.00      1.00      1.00        15\n",
      "         110       1.00      1.00      1.00         8\n",
      "\n",
      "    accuracy                           0.91       458\n",
      "   macro avg       0.86      0.88      0.87       458\n",
      "weighted avg       0.92      0.91      0.91       458\n",
      "\n"
     ]
    }
   ],
   "source": [
    "#decision trees, no max_depth\n",
    "from sklearn.tree import DecisionTreeClassifier\n",
    "from sklearn.metrics import classification_report\n",
    "\n",
    "tree = DecisionTreeClassifier(random_state=0)\n",
    "tree.fit(X_train,y_train)\n",
    "\n",
    "#add target names\n",
    "print(\"Accuracy on training set: {:.3f}\".format(tree.score(X_train, y_train)))\n",
    "print(\"Accuracy on test set: {:.3f}\".format(tree.score(X_test, y_test)))\n",
    "print(classification_report(y_test, tree.predict(X_test),\n",
    "                            target_names=[\"119\",\"1F2\",\"209\",\n",
    "                                          \"1G6\",\"115\",\"109\",\n",
    "                                          \"191\",\"147\",\"182\",\n",
    "                                          \"210\",\"2A7\",\"1G5\",\n",
    "                                          \"201\",\"114\",\"102\",\n",
    "                                          \"131\",\"282\",\"101\",\n",
    "                                          \"181\",\"214\",\"110\"]))"
   ]
  },
  {
   "cell_type": "code",
   "execution_count": 33,
   "metadata": {},
   "outputs": [
    {
     "name": "stdout",
     "output_type": "stream",
     "text": [
      "Feature importances:\n",
      "[0.23012753 0.67189472 0.06632717 0.03165058]\n"
     ]
    }
   ],
   "source": [
    "print(\"Feature importances:\")\n",
    "print(tree.feature_importances_)"
   ]
  },
  {
   "cell_type": "code",
   "execution_count": 38,
   "metadata": {
    "scrolled": true
   },
   "outputs": [
    {
     "data": {
      "image/png": "[encoded data removed]",
      "text/plain": [
       "<Figure size 432x288 with 1 Axes>"
      ]
     },
     "metadata": {},
     "output_type": "display_data"
    }
   ],
   "source": [
    "#using plot feature importance vios\n",
    "def plot_feature_importances_vios(model):\n",
    "    n_features = X.shape[1]\n",
    "    plt.barh(np.arange(n_features), model.feature_importances_, align='center')\n",
    "    plt.yticks(np.arange(n_features), ('I_CODE','Section of Law','BIN Number','Inspector ID'))\n",
    "    plt.xlabel(\"Feature importance\")\n",
    "    plt.ylabel(\"Feature\")\n",
    "    plt.ylim(-1, n_features)\n",
    "\n",
    "plot_feature_importances_vios(tree)"
   ]
  },
  {
   "cell_type": "markdown",
   "metadata": {},
   "source": [
    "### **Decision Trees: Max Depth = 3**"
   ]
  },
  {
   "cell_type": "code",
   "execution_count": 47,
   "metadata": {},
   "outputs": [
    {
     "name": "stdout",
     "output_type": "stream",
     "text": [
      "Accuracy on training set: 0.602\n",
      "Accuracy on test set: 0.600\n",
      "              precision    recall  f1-score   support\n",
      "\n",
      "         119       0.98      0.95      0.96        58\n",
      "         1F2       0.00      0.00      0.00         3\n",
      "         209       0.00      0.00      0.00         6\n",
      "         1G6       0.00      0.00      0.00        28\n",
      "         115       0.40      1.00      0.57         2\n",
      "         109       0.00      0.00      0.00         7\n",
      "         191       1.00      0.94      0.97        33\n",
      "         147       1.00      0.98      0.99       111\n",
      "         182       0.00      0.00      0.00         4\n",
      "         210       0.00      0.00      0.00        23\n",
      "         2A7       0.00      0.00      0.00         3\n",
      "         1G5       0.00      0.00      0.00        23\n",
      "         201       0.00      0.00      0.00        25\n",
      "         114       0.18      1.00      0.31        38\n",
      "         102       0.00      0.00      0.00         8\n",
      "         131       0.78      1.00      0.88        40\n",
      "         282       0.00      0.00      0.00        16\n",
      "         101       0.00      0.00      0.00         3\n",
      "         181       0.00      0.00      0.00         4\n",
      "         214       0.00      0.00      0.00        15\n",
      "         110       0.00      0.00      0.00         8\n",
      "\n",
      "    accuracy                           0.60       458\n",
      "   macro avg       0.21      0.28      0.22       458\n",
      "weighted avg       0.52      0.60      0.54       458\n",
      "\n"
     ]
    }
   ],
   "source": [
    "#max_depth of 3\n",
    "tree3 = DecisionTreeClassifier(max_depth=3, random_state=0, splitter='best')\n",
    "tree3.fit(X_train, y_train)\n",
    "\n",
    "print(\"Accuracy on training set: {:.3f}\".format(tree3.score(X_train, y_train)))\n",
    "print(\"Accuracy on test set: {:.3f}\".format(tree3.score(X_test, y_test)))\n",
    "print(classification_report(y_test, tree3.predict(X_test),\n",
    "                            target_names=[\"119\",\"1F2\",\"209\",\n",
    "                                          \"1G6\",\"115\",\"109\",\n",
    "                                          \"191\",\"147\",\"182\",\n",
    "                                          \"210\",\"2A7\",\"1G5\",\n",
    "                                          \"201\",\"114\",\"102\",\n",
    "                                          \"131\",\"282\",\"101\",\n",
    "                                          \"181\",\"214\",\"110\"]))"
   ]
  },
  {
   "cell_type": "code",
   "execution_count": 49,
   "metadata": {},
   "outputs": [
    {
     "name": "stdout",
     "output_type": "stream",
     "text": [
      "Feature importances:\n",
      "[3.09401820e-02 9.68903057e-01 1.56760903e-04 0.00000000e+00]\n"
     ]
    }
   ],
   "source": [
    "print(\"Feature importances:\")\n",
    "print(tree2.feature_importances_)"
   ]
  },
  {
   "cell_type": "code",
   "execution_count": 50,
   "metadata": {},
   "outputs": [
    {
     "data": {
      "image/png": "[encoded data removed]",
      "text/plain": [
       "<Figure size 432x288 with 1 Axes>"
      ]
     },
     "metadata": {},
     "output_type": "display_data"
    }
   ],
   "source": [
    "#using plot feature importance vios\n",
    "def plot_feature_importances_vios(model):\n",
    "    n_features = X.shape[1]\n",
    "    plt.barh(np.arange(n_features), model.feature_importances_, align='center')\n",
    "    plt.yticks(np.arange(n_features), ('I_CODE','Section of Law','BIN Number','Inspector ID'))\n",
    "    plt.xlabel(\"Feature importance\")\n",
    "    plt.ylabel(\"Feature\")\n",
    "    plt.ylim(-1, n_features)\n",
    "\n",
    "plot_feature_importances_vios(tree2)"
   ]
  },
  {
   "cell_type": "markdown",
   "metadata": {},
   "source": [
    "### **Decision Trees: Max Depth = 10**"
   ]
  },
  {
   "cell_type": "code",
   "execution_count": 63,
   "metadata": {},
   "outputs": [
    {
     "name": "stdout",
     "output_type": "stream",
     "text": [
      "Accuracy on training set: 0.935\n",
      "Accuracy on test set: 0.921\n",
      "              precision    recall  f1-score   support\n",
      "\n",
      "         119       0.98      0.93      0.96        58\n",
      "         1F2       0.00      0.00      0.00         3\n",
      "         209       0.67      1.00      0.80         6\n",
      "         1G6       0.50      0.89      0.64        28\n",
      "         115       1.00      1.00      1.00         2\n",
      "         109       0.40      0.29      0.33         7\n",
      "         191       0.97      0.97      0.97        33\n",
      "         147       1.00      0.98      0.99       111\n",
      "         182       1.00      0.50      0.67         4\n",
      "         210       1.00      0.87      0.93        23\n",
      "         2A7       1.00      1.00      1.00         3\n",
      "         1G5       1.00      1.00      1.00        23\n",
      "         201       0.96      0.96      0.96        25\n",
      "         114       1.00      0.84      0.91        38\n",
      "         102       1.00      1.00      1.00         8\n",
      "         131       0.98      1.00      0.99        40\n",
      "         282       0.92      0.69      0.79        16\n",
      "         101       1.00      1.00      1.00         3\n",
      "         181       1.00      1.00      1.00         4\n",
      "         214       1.00      0.93      0.97        15\n",
      "         110       1.00      1.00      1.00         8\n",
      "\n",
      "    accuracy                           0.92       458\n",
      "   macro avg       0.87      0.85      0.85       458\n",
      "weighted avg       0.94      0.92      0.92       458\n",
      "\n"
     ]
    }
   ],
   "source": [
    "#max_depth changed to 10\n",
    "tree10 = DecisionTreeClassifier(max_depth= 10,random_state=0)\n",
    "tree10.fit(X_train,y_train)\n",
    "\n",
    "#need tp change the classification report target names\n",
    "print(\"Accuracy on training set: {:.3f}\".format(tree10.score(X_train, y_train)))\n",
    "print(\"Accuracy on test set: {:.3f}\".format(tree10.score(X_test, y_test)))\n",
    "print(classification_report(y_test, tree10.predict(X_test),\n",
    "                            target_names=[\"119\",\"1F2\",\"209\",\n",
    "                                          \"1G6\",\"115\",\"109\",\n",
    "                                          \"191\",\"147\",\"182\",\n",
    "                                          \"210\",\"2A7\",\"1G5\",\n",
    "                                          \"201\",\"114\",\"102\",\n",
    "                                          \"131\",\"282\",\"101\",\n",
    "                                          \"181\",\"214\",\"110\"]))"
   ]
  },
  {
   "cell_type": "code",
   "execution_count": 64,
   "metadata": {},
   "outputs": [
    {
     "name": "stdout",
     "output_type": "stream",
     "text": [
      "Feature importances:\n",
      "[0.24054727 0.74165081 0.015405   0.00239692]\n"
     ]
    }
   ],
   "source": [
    "print(\"Feature importances:\")\n",
    "print(tree10.feature_importances_)"
   ]
  },
  {
   "cell_type": "code",
   "execution_count": 65,
   "metadata": {
    "scrolled": true
   },
   "outputs": [
    {
     "data": {
      "image/png": "[encoded data removed]",
      "text/plain": [
       "<Figure size 432x288 with 1 Axes>"
      ]
     },
     "metadata": {},
     "output_type": "display_data"
    }
   ],
   "source": [
    "#using plot feature importance vios\n",
    "def plot_feature_importances_vios(model):\n",
    "    n_features = X.shape[1]\n",
    "    plt.barh(np.arange(n_features), model.feature_importances_, align='center')\n",
    "    plt.yticks(np.arange(n_features), ('I_CODE','Section of Law','BIN Number','Inspector ID'))\n",
    "    plt.xlabel(\"Feature importance\")\n",
    "    plt.ylabel(\"Feature\")\n",
    "    plt.ylim(-1, n_features)\n",
    "\n",
    "plot_feature_importances_vios(tree7)"
   ]
  }
 ],
 "metadata": {
  "kernelspec": {
   "display_name": "Python 3",
   "language": "python",
   "name": "python3"
  },
  "language_info": {
   "codemirror_mode": {
    "name": "ipython",
    "version": 3
   },
   "file_extension": ".py",
   "mimetype": "text/x-python",
   "name": "python",
   "nbconvert_exporter": "python",
   "pygments_lexer": "ipython3",
   "version": "3.7.4"
  }
 },
 "nbformat": 4,
 "nbformat_minor": 2
}
